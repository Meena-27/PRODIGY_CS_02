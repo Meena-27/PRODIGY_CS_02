{
  "nbformat": 4,
  "nbformat_minor": 0,
  "metadata": {
    "colab": {
      "provenance": [],
      "authorship_tag": "ABX9TyMzd5YnOK7PNF9HYxFYZZF8",
      "include_colab_link": true
    },
    "kernelspec": {
      "name": "python3",
      "display_name": "Python 3"
    },
    "language_info": {
      "name": "python"
    }
  },
  "cells": [
    {
      "cell_type": "markdown",
      "metadata": {
        "id": "view-in-github",
        "colab_type": "text"
      },
      "source": [
        "<a href=\"https://colab.research.google.com/github/Meena-27/PRODIGY_CS_02/blob/main/image_encryption.ipynb\" target=\"_parent\"><img src=\"https://colab.research.google.com/assets/colab-badge.svg\" alt=\"Open In Colab\"/></a>"
      ]
    },
    {
      "cell_type": "code",
      "execution_count": 2,
      "metadata": {
        "colab": {
          "base_uri": "https://localhost:8080/"
        },
        "id": "_5SWt1aGiYk_",
        "outputId": "8a0c3a6b-7a28-47d6-d770-d23329e29676"
      },
      "outputs": [
        {
          "output_type": "stream",
          "name": "stdout",
          "text": [
            "Image encrypted successfully!\n",
            "Image decrypted successfully!\n"
          ]
        }
      ],
      "source": [
        "from PIL import Image\n",
        "\n",
        "def encrypt_image(image_path, key):\n",
        "    # Open the image\n",
        "    img = Image.open('/content/image.jpg')\n",
        "    # Convert the image to RGB mode\n",
        "    img = img.convert(\"RGB\")\n",
        "\n",
        "    # Get the width and height of the image\n",
        "    width, height = img.size\n",
        "\n",
        "    # Encrypt each pixel of the image\n",
        "    encrypted_pixels = []\n",
        "    for y in range(height):\n",
        "        for x in range(width):\n",
        "            # Get the pixel value at (x, y)\n",
        "            r, g, b = img.getpixel((x, y))\n",
        "            # Apply XOR operation with the key to each color channel\n",
        "            r_encrypted = r ^ key\n",
        "            g_encrypted = g ^ key\n",
        "            b_encrypted = b ^ key\n",
        "            # Append the encrypted pixel values\n",
        "            encrypted_pixels.append((r_encrypted, g_encrypted, b_encrypted))\n",
        "\n",
        "    # Create a new image with the encrypted pixel values\n",
        "    encrypted_img = Image.new(\"RGB\", (width, height))\n",
        "    encrypted_img.putdata(encrypted_pixels)\n",
        "\n",
        "    # Save the encrypted image\n",
        "    encrypted_img.save(\"encrypted_image.png\")\n",
        "    print(\"Image encrypted successfully!\")\n",
        "\n",
        "def decrypt_image(image_path, key):\n",
        "    # Open the encrypted image\n",
        "    img = Image.open(image_path)\n",
        "    # Convert the image to RGB mode\n",
        "    img = img.convert(\"RGB\")\n",
        "\n",
        "    # Get the width and height of the image\n",
        "    width, height = img.size\n",
        "\n",
        "    # Decrypt each pixel of the image\n",
        "    decrypted_pixels = []\n",
        "    for y in range(height):\n",
        "        for x in range(width):\n",
        "            # Get the pixel value at (x, y)\n",
        "            r, g, b = img.getpixel((x, y))\n",
        "            # Apply XOR operation with the key to each color channel\n",
        "            r_decrypted = r ^ key\n",
        "            g_decrypted = g ^ key\n",
        "            b_decrypted = b ^ key\n",
        "            # Append the decrypted pixel values\n",
        "            decrypted_pixels.append((r_decrypted, g_decrypted, b_decrypted))\n",
        "\n",
        "    # Create a new image with the decrypted pixel values\n",
        "    decrypted_img = Image.new(\"RGB\", (width, height))\n",
        "    decrypted_img.putdata(decrypted_pixels)\n",
        "\n",
        "    # Save the decrypted image\n",
        "    decrypted_img.save(\"decrypted_image.png\")\n",
        "    print(\"Image decrypted successfully!\")\n",
        "\n",
        "# Example usage:\n",
        "# Encrypt image\n",
        "encrypt_image(\"original_image.png\", 128)\n",
        "# Decrypt image\n",
        "decrypt_image(\"encrypted_image.png\", 128)\n"
      ]
    }
  ]
}